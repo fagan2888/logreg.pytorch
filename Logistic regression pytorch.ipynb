{
 "cells": [
  {
   "cell_type": "code",
   "execution_count": 1,
   "metadata": {},
   "outputs": [],
   "source": [
    "import torch\n",
    "from torch import nn\n",
    "from torch.autograd import Variable\n",
    "import torch.nn.functional as F\n",
    "from sklearn.linear_model import LogisticRegression"
   ]
  },
  {
   "cell_type": "code",
   "execution_count": 2,
   "metadata": {},
   "outputs": [],
   "source": [
    "N = 1000000\n",
    "n = 1000\n",
    "m = 100\n",
    "Wreal = torch.cuda.FloatTensor(n,m).normal_()\n",
    "X = torch.cuda.FloatTensor(N,n).normal_()\n",
    "Y = torch.argmax(X@Wreal+5*torch.randn(N,m).cuda(),dim=1).cuda()"
   ]
  },
  {
   "cell_type": "code",
   "execution_count": 3,
   "metadata": {},
   "outputs": [],
   "source": [
    "W = Variable(torch.cuda.FloatTensor(n,m).zero_(),requires_grad=True)\n",
    "b = Variable(torch.cuda.FloatTensor(m).zero_(),requires_grad=True)\n",
    "def model(X):\n",
    "    return F.log_softmax(X@W+b)"
   ]
  },
  {
   "cell_type": "code",
   "execution_count": 4,
   "metadata": {},
   "outputs": [],
   "source": [
    "optim = torch.optim.LBFGS([W,b],lr=1,max_iter=100,tolerance_grad=1e-3)\n",
    "def closure():\n",
    "    optim.zero_grad()\n",
    "    loss = torch.nn.NLLLoss()(model(X),Y) + N*1e-9*torch.sum(W**2)\n",
    "    loss.backward()\n",
    "    print (loss.item())\n",
    "    return loss"
   ]
  },
  {
   "cell_type": "code",
   "execution_count": 5,
   "metadata": {},
   "outputs": [
    {
     "name": "stderr",
     "output_type": "stream",
     "text": [
      "/home/shane/miniconda3/envs/lstsq/lib/python3.6/site-packages/ipykernel_launcher.py:4: UserWarning: Implicit dimension choice for log_softmax has been deprecated. Change the call to include dim=X as an argument.\n",
      "  after removing the cwd from sys.path.\n"
     ]
    },
    {
     "name": "stdout",
     "output_type": "stream",
     "text": [
      "4.604015350341797\n",
      "4.603674411773682\n",
      "1.952467441558838\n",
      "2.133491277694702\n",
      "1.8471050262451172\n",
      "1.8384475708007812\n",
      "1.8242239952087402\n",
      "1.8231489658355713\n",
      "1.8227170705795288\n",
      "1.8225266933441162\n",
      "1.822489857673645\n",
      "1.8224807977676392\n",
      "1.822475552558899\n",
      "1.8224586248397827\n",
      "1.8224490880966187\n",
      "1.8224576711654663\n",
      "1.8224436044692993\n",
      "1.8224432468414307\n",
      "1.8224436044692993\n",
      "1.8224437236785889\n",
      "1.8224437236785889\n",
      "CPU times: user 2.67 s, sys: 922 ms, total: 3.59 s\n",
      "Wall time: 3.58 s\n"
     ]
    },
    {
     "data": {
      "text/plain": [
       "tensor(4.6040, device='cuda:0', grad_fn=<ThAddBackward>)"
      ]
     },
     "execution_count": 5,
     "metadata": {},
     "output_type": "execute_result"
    }
   ],
   "source": [
    "%%time\n",
    "optim.step(closure)"
   ]
  }
 ],
 "metadata": {
  "kernelspec": {
   "display_name": "Python 3",
   "language": "python",
   "name": "python3"
  },
  "language_info": {
   "codemirror_mode": {
    "name": "ipython",
    "version": 3
   },
   "file_extension": ".py",
   "mimetype": "text/x-python",
   "name": "python",
   "nbconvert_exporter": "python",
   "pygments_lexer": "ipython3",
   "version": "3.6.6"
  }
 },
 "nbformat": 4,
 "nbformat_minor": 2
}
